{
  "cells": [
    {
      "cell_type": "markdown",
      "metadata": {
        "id": "view-in-github",
        "colab_type": "text"
      },
      "source": [
        "<a href=\"https://colab.research.google.com/github/samehaisaa/Shape-Recognition-And-Descriptor-Analysis/blob/main/g%C3%A9od%C3%A9sique_3D.ipynb\" target=\"_parent\"><img src=\"https://colab.research.google.com/assets/colab-badge.svg\" alt=\"Open In Colab\"/></a>"
      ]
    },
    {
      "cell_type": "code",
      "execution_count": null,
      "metadata": {
        "colab": {
          "base_uri": "https://localhost:8080/"
        },
        "id": "XV0kaBSjRmdS",
        "outputId": "f3b11ed0-e55a-4697-a1ee-3ba9a0a33796"
      },
      "outputs": [
        {
          "output_type": "stream",
          "name": "stdout",
          "text": [
            "\u001b[?25l   \u001b[90m━━━━━━━━━━━━━━━━━━━━━━━━━━━━━━━━━━━━━━━━\u001b[0m \u001b[32m0.0/704.8 kB\u001b[0m \u001b[31m?\u001b[0m eta \u001b[36m-:--:--\u001b[0m\r\u001b[2K   \u001b[91m━━━━━━━━━━━━━━━━━━━━━━━━━━━━━━━━━━━━━━━\u001b[0m\u001b[91m╸\u001b[0m \u001b[32m696.3/704.8 kB\u001b[0m \u001b[31m23.7 MB/s\u001b[0m eta \u001b[36m0:00:01\u001b[0m\r\u001b[2K   \u001b[90m━━━━━━━━━━━━━━━━━━━━━━━━━━━━━━━━━━━━━━━━\u001b[0m \u001b[32m704.8/704.8 kB\u001b[0m \u001b[31m16.6 MB/s\u001b[0m eta \u001b[36m0:00:00\u001b[0m\n",
            "\u001b[?25h"
          ]
        }
      ],
      "source": [
        "!pip -q install trimesh\n"
      ]
    },
    {
      "cell_type": "code",
      "execution_count": null,
      "metadata": {
        "id": "9XGSHoTXRrsy"
      },
      "outputs": [],
      "source": [
        "import trimesh\n",
        "import numpy as np\n",
        "from scipy.sparse import csr_matrix\n",
        "from scipy.sparse.csgraph import dijkstra\n",
        "import plotly.graph_objs as go\n",
        "from tqdm import tqdm\n"
      ]
    },
    {
      "cell_type": "code",
      "execution_count": null,
      "metadata": {
        "id": "DTqiWQzxRthU"
      },
      "outputs": [],
      "source": [
        "seed_index1 = 13714  #bout du nez\n",
        "filepath = '/content/F0001_AN01WH_F3Dsur.obj'\n"
      ]
    },
    {
      "cell_type": "code",
      "execution_count": null,
      "metadata": {
        "colab": {
          "background_save": true
        },
        "id": "3YYqILzyRv2u",
        "outputId": "d0b15fd3-a948-40a1-c073-e851b7aa813a"
      },
      "outputs": [
        {
          "ename": "ValueError",
          "evalue": "string is not a file: /content/F0001_AN01WH_F3Dsur.obj",
          "output_type": "error",
          "traceback": [
            "\u001b[0;31m---------------------------------------------------------------------------\u001b[0m",
            "\u001b[0;31mValueError\u001b[0m                                Traceback (most recent call last)",
            "\u001b[0;32m<ipython-input-4-2bc30a8e629e>\u001b[0m in \u001b[0;36m<cell line: 6>\u001b[0;34m()\u001b[0m\n\u001b[1;32m      4\u001b[0m     \u001b[0mfaces\u001b[0m \u001b[0;34m=\u001b[0m \u001b[0mnp\u001b[0m\u001b[0;34m.\u001b[0m\u001b[0marray\u001b[0m\u001b[0;34m(\u001b[0m\u001b[0mmesh\u001b[0m\u001b[0;34m.\u001b[0m\u001b[0mfaces\u001b[0m\u001b[0;34m)\u001b[0m\u001b[0;34m\u001b[0m\u001b[0;34m\u001b[0m\u001b[0m\n\u001b[1;32m      5\u001b[0m     \u001b[0;32mreturn\u001b[0m \u001b[0mvertices\u001b[0m\u001b[0;34m,\u001b[0m \u001b[0mfaces\u001b[0m\u001b[0;34m\u001b[0m\u001b[0;34m\u001b[0m\u001b[0m\n\u001b[0;32m----> 6\u001b[0;31m \u001b[0mvertices\u001b[0m\u001b[0;34m,\u001b[0m \u001b[0mfaces\u001b[0m \u001b[0;34m=\u001b[0m \u001b[0mload_obj_mesh\u001b[0m\u001b[0;34m(\u001b[0m\u001b[0mfilepath\u001b[0m\u001b[0;34m)\u001b[0m\u001b[0;34m\u001b[0m\u001b[0;34m\u001b[0m\u001b[0m\n\u001b[0m",
            "\u001b[0;32m<ipython-input-4-2bc30a8e629e>\u001b[0m in \u001b[0;36mload_obj_mesh\u001b[0;34m(filepath)\u001b[0m\n\u001b[1;32m      1\u001b[0m \u001b[0;32mdef\u001b[0m \u001b[0mload_obj_mesh\u001b[0m\u001b[0;34m(\u001b[0m\u001b[0mfilepath\u001b[0m\u001b[0;34m)\u001b[0m\u001b[0;34m:\u001b[0m\u001b[0;34m\u001b[0m\u001b[0;34m\u001b[0m\u001b[0m\n\u001b[0;32m----> 2\u001b[0;31m     \u001b[0mmesh\u001b[0m \u001b[0;34m=\u001b[0m \u001b[0mtrimesh\u001b[0m\u001b[0;34m.\u001b[0m\u001b[0mload\u001b[0m\u001b[0;34m(\u001b[0m\u001b[0mfilepath\u001b[0m\u001b[0;34m)\u001b[0m\u001b[0;34m\u001b[0m\u001b[0;34m\u001b[0m\u001b[0m\n\u001b[0m\u001b[1;32m      3\u001b[0m     \u001b[0mvertices\u001b[0m \u001b[0;34m=\u001b[0m \u001b[0mnp\u001b[0m\u001b[0;34m.\u001b[0m\u001b[0marray\u001b[0m\u001b[0;34m(\u001b[0m\u001b[0mmesh\u001b[0m\u001b[0;34m.\u001b[0m\u001b[0mvertices\u001b[0m\u001b[0;34m)\u001b[0m\u001b[0;34m\u001b[0m\u001b[0;34m\u001b[0m\u001b[0m\n\u001b[1;32m      4\u001b[0m     \u001b[0mfaces\u001b[0m \u001b[0;34m=\u001b[0m \u001b[0mnp\u001b[0m\u001b[0;34m.\u001b[0m\u001b[0marray\u001b[0m\u001b[0;34m(\u001b[0m\u001b[0mmesh\u001b[0m\u001b[0;34m.\u001b[0m\u001b[0mfaces\u001b[0m\u001b[0;34m)\u001b[0m\u001b[0;34m\u001b[0m\u001b[0;34m\u001b[0m\u001b[0m\n\u001b[1;32m      5\u001b[0m     \u001b[0;32mreturn\u001b[0m \u001b[0mvertices\u001b[0m\u001b[0;34m,\u001b[0m \u001b[0mfaces\u001b[0m\u001b[0;34m\u001b[0m\u001b[0;34m\u001b[0m\u001b[0m\n",
            "\u001b[0;32m/usr/local/lib/python3.10/dist-packages/trimesh/exchange/load.py\u001b[0m in \u001b[0;36mload\u001b[0;34m(file_obj, file_type, resolver, force, **kwargs)\u001b[0m\n\u001b[1;32m    112\u001b[0m         \u001b[0mopened\u001b[0m\u001b[0;34m,\u001b[0m  \u001b[0;31m# bool, did we open the file ourselves\u001b[0m\u001b[0;34m\u001b[0m\u001b[0;34m\u001b[0m\u001b[0m\n\u001b[1;32m    113\u001b[0m         \u001b[0mresolver\u001b[0m\u001b[0;34m,\u001b[0m  \u001b[0;31m# object to load referenced resources\u001b[0m\u001b[0;34m\u001b[0m\u001b[0;34m\u001b[0m\u001b[0m\n\u001b[0;32m--> 114\u001b[0;31m     ) = _parse_file_args(file_obj=file_obj, file_type=file_type, resolver=resolver)\n\u001b[0m\u001b[1;32m    115\u001b[0m \u001b[0;34m\u001b[0m\u001b[0m\n\u001b[1;32m    116\u001b[0m     \u001b[0;32mtry\u001b[0m\u001b[0;34m:\u001b[0m\u001b[0;34m\u001b[0m\u001b[0;34m\u001b[0m\u001b[0m\n",
            "\u001b[0;32m/usr/local/lib/python3.10/dist-packages/trimesh/exchange/load.py\u001b[0m in \u001b[0;36m_parse_file_args\u001b[0;34m(file_obj, file_type, resolver, **kwargs)\u001b[0m\n\u001b[1;32m    610\u001b[0m                 \u001b[0;32mraise\u001b[0m \u001b[0mValueError\u001b[0m\u001b[0;34m(\u001b[0m\u001b[0;34mf\"use load_remote to load URL: {file_obj}\"\u001b[0m\u001b[0;34m)\u001b[0m\u001b[0;34m\u001b[0m\u001b[0;34m\u001b[0m\u001b[0m\n\u001b[1;32m    611\u001b[0m             \u001b[0;32melif\u001b[0m \u001b[0mfile_type\u001b[0m \u001b[0;32mis\u001b[0m \u001b[0;32mNone\u001b[0m\u001b[0;34m:\u001b[0m\u001b[0;34m\u001b[0m\u001b[0;34m\u001b[0m\u001b[0m\n\u001b[0;32m--> 612\u001b[0;31m                 \u001b[0;32mraise\u001b[0m \u001b[0mValueError\u001b[0m\u001b[0;34m(\u001b[0m\u001b[0;34mf\"string is not a file: {file_obj}\"\u001b[0m\u001b[0;34m)\u001b[0m\u001b[0;34m\u001b[0m\u001b[0;34m\u001b[0m\u001b[0m\n\u001b[0m\u001b[1;32m    613\u001b[0m \u001b[0;34m\u001b[0m\u001b[0m\n\u001b[1;32m    614\u001b[0m     \u001b[0;32mif\u001b[0m \u001b[0mfile_type\u001b[0m \u001b[0;32mis\u001b[0m \u001b[0;32mNone\u001b[0m\u001b[0;34m:\u001b[0m\u001b[0;34m\u001b[0m\u001b[0;34m\u001b[0m\u001b[0m\n",
            "\u001b[0;31mValueError\u001b[0m: string is not a file: /content/F0001_AN01WH_F3Dsur.obj"
          ]
        }
      ],
      "source": [
        "def load_obj_mesh(filepath):\n",
        "    mesh = trimesh.load(filepath)\n",
        "    vertices = np.array(mesh.vertices)\n",
        "    faces = np.array(mesh.faces)\n",
        "    return vertices, faces\n",
        "vertices, faces = load_obj_mesh(filepath)\n"
      ]
    },
    {
      "cell_type": "code",
      "execution_count": null,
      "metadata": {
        "colab": {
          "background_save": true
        },
        "id": "55JOC29JRyge"
      },
      "outputs": [],
      "source": [
        "def compute_geodesic_distances(vertices, faces, seed_index, epsilon):\n",
        "    rows, cols, data = [], [], []\n",
        "\n",
        "    for face in tqdm(faces, desc=\"Building Graph\"):\n",
        "        for i in range(3):\n",
        "            for j in range(i + 1, 3):\n",
        "                vi, vj = face[i], face[j]\n",
        "                dist = np.linalg.norm(vertices[vi] - vertices[vj])\n",
        "\n",
        "                rows.extend([vi, vj])\n",
        "                cols.extend([vj, vi])\n",
        "                data.extend([dist, dist])\n",
        "\n",
        "    num_vertices = len(vertices)\n",
        "    graph = csr_matrix((data, (rows, cols)), shape=(num_vertices, num_vertices))\n",
        "\n",
        "    distances, _ = dijkstra(csgraph=graph, directed=False, indices=seed_index, return_predecessors=True)\n",
        "\n",
        "    return distances\n"
      ]
    },
    {
      "cell_type": "code",
      "execution_count": null,
      "metadata": {
        "id": "pKUSFWX17W_o"
      },
      "outputs": [],
      "source": []
    },
    {
      "cell_type": "code",
      "execution_count": null,
      "metadata": {
        "colab": {
          "background_save": true
        },
        "id": "CTF04z0FR0qs"
      },
      "outputs": [],
      "source": [
        "def plot_bipolar_contours(vertices, faces, sum_distances, target_distances, tolerance):\n",
        "    x, y, z = vertices[:, 0], vertices[:, 1], vertices[:, 2]\n",
        "    mesh3d = go.Mesh3d(\n",
        "        x=x, y=y, z=z,\n",
        "        i=faces[:, 0], j=faces[:, 1], k=faces[:, 2],\n",
        "        intensity=sum_distances,\n",
        "        colorscale='Viridis',\n",
        "        colorbar_title='Sum of Geodesic Distances',\n",
        "        showscale=False,\n",
        "        opacity=0.8\n",
        "    )\n",
        "    seed_vertex1 = vertices[seed_index1]\n",
        "    seed_marker1 = go.Scatter3d(\n",
        "        x=[seed_vertex1[0]], y=[seed_vertex1[1]], z=[seed_vertex1[2]],\n",
        "        mode='markers',\n",
        "        marker=dict(size=10, color='blue', symbol='circle')\n",
        "    )\n",
        "\n",
        "    contours = []\n",
        "    for target_distance in target_distances:\n",
        "        selected_indices = np.where(np.isclose(distances, target_distance, atol=tolerance))[0]\n",
        "        selected_vertices = vertices[selected_indices]\n",
        "\n",
        "        contour = go.Scatter3d(\n",
        "            x=selected_vertices[:, 0], y=selected_vertices[:, 1], z=selected_vertices[:, 2],\n",
        "            mode='markers',\n",
        "            marker=dict(size=4, color='red', symbol='circle')\n",
        "        )\n",
        "        contours.append(contour)\n",
        "\n",
        "    # Layout\n",
        "    layout = go.Layout(\n",
        "        scene=dict(\n",
        "            xaxis=dict(title='X'),\n",
        "            yaxis=dict(title='Y'),\n",
        "            zaxis=dict(title='Z')\n",
        "        ),\n",
        "        title=\" Contours Based on equal Geodesic Distances\",\n",
        "        width=1000,\n",
        "        height=800\n",
        "    )\n",
        "\n",
        "    fig = go.Figure(data=[mesh3d, seed_marker1] + contours, layout=layout)\n",
        "\n",
        "\n",
        "    fig.show()\n",
        "\n",
        "\n"
      ]
    },
    {
      "cell_type": "code",
      "execution_count": null,
      "metadata": {
        "colab": {
          "base_uri": "https://localhost:8080/"
        },
        "id": "epr9y4M7TGZh",
        "outputId": "24ea4fbe-f29f-42dc-88b8-1bfee3318122"
      },
      "outputs": [
        {
          "name": "stderr",
          "output_type": "stream",
          "text": [
            "Building Graph: 100%|██████████| 61224/61224 [00:03<00:00, 18915.51it/s]\n"
          ]
        }
      ],
      "source": [
        "epsilone = 0.1\n",
        "vmin = 10\n",
        "pas = 15\n",
        "distances = compute_geodesic_distances(vertices, faces, seed_index1, epsilon=epsilone)\n",
        "vmax = max(distances)\n",
        "target_distances = [vmin + i * pas for i in range(int((vmax - vmin) // pas + 1))]\n"
      ]
    },
    {
      "cell_type": "code",
      "execution_count": null,
      "metadata": {
        "id": "s7l4OKupSDv6"
      },
      "outputs": [],
      "source": [
        "plot_bipolar_contours(vertices, faces, distances, target_distances, tolerance=epsilone)\n"
      ]
    }
  ],
  "metadata": {
    "colab": {
      "provenance": [],
      "include_colab_link": true
    },
    "kernelspec": {
      "display_name": "Python 3",
      "name": "python3"
    },
    "language_info": {
      "name": "python"
    }
  },
  "nbformat": 4,
  "nbformat_minor": 0
}